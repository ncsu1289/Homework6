{
 "cells": [
  {
   "cell_type": "markdown",
   "metadata": {},
   "source": [
    "Unit 6 | Assignment - What's the Weather Like?\n",
    "Background\n",
    "Whether financial, political, or social -- data's true power lies in its ability to answer \n",
    "questions definitively. So let's take what you've learned about Python requests, APIs, and JSON\n",
    "traversals to answer a fundamental question: \"What's the weather like as we approach the equator?\"\n",
    "    \n",
    "Now, we know what you may be thinking: \"Duh. It gets hotter...\"\n",
    "    \n",
    "But, if pressed, how would you prove it?\n",
    "\n",
    "Equator\n",
    "\n",
    "WeatherPy\n",
    "\n",
    "In this example, you'll be creating a Python script to visualize the weather of 500+ cities \n",
    "across the world of varying distance from the equator. To accomplish this, you'll be utilizing \n",
    "a simple Python library, the OpenWeatherMap API, and a little common sense to create a \n",
    "representative model of weather across world cities.\n",
    "\n",
    "Your objective is to build a series of scatter plots to showcase the following relationships:\n",
    "    \n",
    "Temperature (F) vs. Latitude\n",
    "Humidity (%) vs. Latitude\n",
    "Cloudiness (%) vs. Latitude\n",
    "Wind Speed (mph) vs. Latitude\n",
    "\n",
    "Your final notebook must:\n",
    "Randomly select at least 500 unique (non-repeat) cities based on latitude and longitude.\n",
    "\n",
    "Perform a weather check on each of the cities using a series of successive API calls.\n",
    "\n",
    "Include a print log of each city as it's being processed with the city number, city name, and \n",
    "requested URL.\n",
    "\n",
    "Save both a CSV of all data retrieved and png images for each scatter plot.\n",
    "\n",
    "As final considerations:\n",
    "You must use the Matplotlib and Seaborn libraries.\n",
    "You must include a written description of three observable trends based on the data.\n",
    "You must use proper labeling of your plots, including aspects like: Plot Titles \n",
    "    (with date of analysis) and Axes Labels.\n",
    "You must include an exported markdown version of your Notebook called  README.md in your GitHub \n",
    "repository.\n",
    "\n",
    "See Example Solution for a reference on expected format.\n",
    "\n",
    "Hints and Considerations\n",
    "\n",
    "You may want to start this assignment by refreshing yourself on 4th grade geography, in \n",
    "particular, the geographic coordinate system.\n",
    "\n",
    "Next, spend the requisite time necessary to study the OpenWeatherMap API. Based on your initial\n",
    "study, you should be able to answer basic questions about the API: \n",
    "    Where do you request the APIkey? \n",
    "    Which Weather API in particular will you need? \n",
    "    What URL endpoints does it expect? \n",
    "    What JSON structure does it respond with? \n",
    "    Before you write a line of code, you should be aiming to have a crystal clear understanding\n",
    "    of your intended outcome.\n",
    "    \n",
    "Though we've never worked with the citipy Python library, push yourself to decipher how it \n",
    "works,and why it might be relevant. Before you try to incorporate the library into your \n",
    "analysis, start by creating simple test cases outside your main script to confirm that you are \n",
    "using it correctly. Too often, when introduced to a new library, students get bogged down by the\n",
    "most minor of errors -- spending hours investigating their entire code -- when, in fact, a \n",
    "simple and focused test would have shown their basic utilization of the library was wrong from \n",
    "the start. Don't let this be you!\n",
    "\n",
    "Part of our expectation in this challenge is that you will use critical thinking skills to \n",
    "understand how and why we're recommending the tools we are. \n",
    "    What is Citipy for? \n",
    "    Why would you use it in conjunction with the OpenWeatherMap API? \n",
    "    How would you do so?\n",
    "    \n",
    "In building your script, pay attention to the cities you are using in your query pool. \n",
    "Are you getting coverage of the full gamut of latitudes and longitudes? \n",
    "Or are you simply choosing 500 cities concentrated in one region of the world? \n",
    "Even if you were a geographic genius, simply rattling 500 cities based on your human selection \n",
    "would create a biased dataset. Be thinking of how you should counter this. \n",
    "(Hint: Consider the full range of latitudes).\n",
    "Lastly, remember -- this is a challenging activity. Push yourself! If you complete this task, \n",
    "then you can safely say that you've gained a strong mastery of the core foundations of data \n",
    "analytics and it will only go better from here. Good luck!"
   ]
  },
  {
   "cell_type": "markdown",
   "metadata": {},
   "source": [
    "#Note: I downloaded and installed citipy, but could not get the function to work.  So, I used the \n",
    "raw data from citipy and created my own random city selection."
   ]
  },
  {
   "cell_type": "code",
   "execution_count": 1,
   "metadata": {},
   "outputs": [],
   "source": [
    "import csv\n",
    "import random\n",
    "import pandas as pd\n",
    "import numpy as np\n",
    "import json\n",
    "import requests as req\n",
    "import matplotlib.pyplot as plt"
   ]
  },
  {
   "cell_type": "code",
   "execution_count": 2,
   "metadata": {
    "collapsed": true
   },
   "outputs": [],
   "source": [
    "# Save config information\n",
    "api_key = \"555f071860e562f7871e3f299ddd26ba\"\n",
    "url1 = \"http://api.openweathermap.org/data/2.5/weather?\"\n",
    "city_path=\"../Homework6/Resources/worldcities.csv\"\n",
    "units=\"imperial\"\n",
    "\n"
   ]
  },
  {
   "cell_type": "code",
   "execution_count": 3,
   "metadata": {
    "collapsed": true
   },
   "outputs": [],
   "source": [
    "#Partial query\n",
    "ran_url= url1+ \"appid=\" +api_key +\"&units=\" + units\n",
    "ran_url2=url1+ \"appid=\" +api_key +\"&units=\" + units +\"&q=\""
   ]
  },
  {
   "cell_type": "code",
   "execution_count": 4,
   "metadata": {},
   "outputs": [
    {
     "data": {
      "text/plain": [
       "Index(['Country', 'City', 'Latitude', 'Longitude'], dtype='object')"
      ]
     },
     "execution_count": 4,
     "metadata": {},
     "output_type": "execute_result"
    }
   ],
   "source": [
    "cities_check=pd.read_csv(city_path,encoding=\"utf=8\")\n",
    "\n",
    "cities_check.keys()\n"
   ]
  },
  {
   "cell_type": "code",
   "execution_count": 5,
   "metadata": {},
   "outputs": [
    {
     "data": {
      "text/html": [
       "<div>\n",
       "<style>\n",
       "    .dataframe thead tr:only-child th {\n",
       "        text-align: right;\n",
       "    }\n",
       "\n",
       "    .dataframe thead th {\n",
       "        text-align: left;\n",
       "    }\n",
       "\n",
       "    .dataframe tbody tr th {\n",
       "        vertical-align: top;\n",
       "    }\n",
       "</style>\n",
       "<table border=\"1\" class=\"dataframe\">\n",
       "  <thead>\n",
       "    <tr style=\"text-align: right;\">\n",
       "      <th></th>\n",
       "      <th>Country</th>\n",
       "      <th>City</th>\n",
       "      <th>Latitude</th>\n",
       "      <th>Longitude</th>\n",
       "    </tr>\n",
       "  </thead>\n",
       "  <tbody>\n",
       "    <tr>\n",
       "      <th>0</th>\n",
       "      <td>ad</td>\n",
       "      <td>andorra la vella</td>\n",
       "      <td>42.500000</td>\n",
       "      <td>1.516667</td>\n",
       "    </tr>\n",
       "    <tr>\n",
       "      <th>1</th>\n",
       "      <td>ad</td>\n",
       "      <td>canillo</td>\n",
       "      <td>42.566667</td>\n",
       "      <td>1.600000</td>\n",
       "    </tr>\n",
       "    <tr>\n",
       "      <th>2</th>\n",
       "      <td>ad</td>\n",
       "      <td>encamp</td>\n",
       "      <td>42.533333</td>\n",
       "      <td>1.583333</td>\n",
       "    </tr>\n",
       "    <tr>\n",
       "      <th>3</th>\n",
       "      <td>ad</td>\n",
       "      <td>la massana</td>\n",
       "      <td>42.550000</td>\n",
       "      <td>1.516667</td>\n",
       "    </tr>\n",
       "    <tr>\n",
       "      <th>4</th>\n",
       "      <td>ad</td>\n",
       "      <td>les escaldes</td>\n",
       "      <td>42.500000</td>\n",
       "      <td>1.533333</td>\n",
       "    </tr>\n",
       "  </tbody>\n",
       "</table>\n",
       "</div>"
      ],
      "text/plain": [
       "  Country              City   Latitude  Longitude\n",
       "0      ad  andorra la vella  42.500000   1.516667\n",
       "1      ad           canillo  42.566667   1.600000\n",
       "2      ad            encamp  42.533333   1.583333\n",
       "3      ad        la massana  42.550000   1.516667\n",
       "4      ad      les escaldes  42.500000   1.533333"
      ]
     },
     "execution_count": 5,
     "metadata": {},
     "output_type": "execute_result"
    }
   ],
   "source": [
    "cities_check.head()"
   ]
  },
  {
   "cell_type": "code",
   "execution_count": 6,
   "metadata": {},
   "outputs": [],
   "source": [
    "cc=cities_check.iloc[28795,:]\n",
    "#cc.head()"
   ]
  },
  {
   "cell_type": "code",
   "execution_count": 7,
   "metadata": {},
   "outputs": [],
   "source": [
    "tester3=req.get(ran_url2 + \"Baltimore\").json()\n",
    "#tester3"
   ]
  },
  {
   "cell_type": "code",
   "execution_count": 8,
   "metadata": {
    "scrolled": true
   },
   "outputs": [],
   "source": [
    "tester2=req.get(ran_url2 + \"mabilo,ph\").json()\n",
    "#tester2"
   ]
  },
  {
   "cell_type": "code",
   "execution_count": 9,
   "metadata": {},
   "outputs": [],
   "source": [
    "tester4=req.get(ran_url2 +\"andorra la vella\").json()\n",
    "#tester4"
   ]
  },
  {
   "cell_type": "code",
   "execution_count": 10,
   "metadata": {},
   "outputs": [],
   "source": [
    "cities_batch=cities_check.count()\n",
    "#cities_batch"
   ]
  },
  {
   "cell_type": "code",
   "execution_count": 11,
   "metadata": {},
   "outputs": [],
   "source": [
    "cities_batch=cities_check.dropna(how=\"any\")\n",
    "#cities_batch.count()"
   ]
  },
  {
   "cell_type": "markdown",
   "metadata": {},
   "source": [
    "ran_city_weather=[]\n",
    "request_cc_weather=req.get(ran_url + lat=11.6784&lon=122.408).json()\n",
    "ran_city_weather.append(request_cc_weather)\n",
    "#ran_city_weather"
   ]
  },
  {
   "cell_type": "code",
   "execution_count": 12,
   "metadata": {},
   "outputs": [],
   "source": [
    "count1=1\n",
    "ran_city=[]\n",
    "ran_city_weather=[]\n",
    "sum_ran_city=[]\n",
    "for i in range(50):\n",
    "    x=random.randint(0,len(cities_batch))\n",
    "    #print(x)\n",
    "    #print(cities_batch.iloc[x,:])\n",
    "    #print(cities_check.iloc[x,:])\n",
    "    ran_city=(cities_batch.iloc[x,:])\n",
    "    sum_ran_city.append(ran_city)\n",
    "    ran_name=ran_city[\"City\"]\n",
    "    ran_country=ran_city[\"Country\"]\n",
    "    result_of_query=req.get(ran_url2 + ran_name +\",\"+ran_country).json()\n",
    "    ran_city_weather.append(result_of_query)"
   ]
  },
  {
   "cell_type": "code",
   "execution_count": 13,
   "metadata": {},
   "outputs": [
    {
     "data": {
      "text/html": [
       "<div>\n",
       "<style>\n",
       "    .dataframe thead tr:only-child th {\n",
       "        text-align: right;\n",
       "    }\n",
       "\n",
       "    .dataframe thead th {\n",
       "        text-align: left;\n",
       "    }\n",
       "\n",
       "    .dataframe tbody tr th {\n",
       "        vertical-align: top;\n",
       "    }\n",
       "</style>\n",
       "<table border=\"1\" class=\"dataframe\">\n",
       "  <thead>\n",
       "    <tr style=\"text-align: right;\">\n",
       "      <th></th>\n",
       "      <th>Country</th>\n",
       "      <th>City</th>\n",
       "      <th>Latitude</th>\n",
       "      <th>Longitude</th>\n",
       "    </tr>\n",
       "  </thead>\n",
       "  <tbody>\n",
       "    <tr>\n",
       "      <th>1794</th>\n",
       "      <td>be</td>\n",
       "      <td>verviers</td>\n",
       "      <td>50.583333</td>\n",
       "      <td>5.866667</td>\n",
       "    </tr>\n",
       "    <tr>\n",
       "      <th>22093</th>\n",
       "      <td>kh</td>\n",
       "      <td>svay rieng</td>\n",
       "      <td>11.083333</td>\n",
       "      <td>105.800000</td>\n",
       "    </tr>\n",
       "    <tr>\n",
       "      <th>13790</th>\n",
       "      <td>gr</td>\n",
       "      <td>konitsa</td>\n",
       "      <td>40.048611</td>\n",
       "      <td>20.756667</td>\n",
       "    </tr>\n",
       "    <tr>\n",
       "      <th>43828</th>\n",
       "      <td>us</td>\n",
       "      <td>silver spring</td>\n",
       "      <td>38.990556</td>\n",
       "      <td>-77.026389</td>\n",
       "    </tr>\n",
       "    <tr>\n",
       "      <th>11144</th>\n",
       "      <td>et</td>\n",
       "      <td>butajira</td>\n",
       "      <td>8.116667</td>\n",
       "      <td>38.366667</td>\n",
       "    </tr>\n",
       "  </tbody>\n",
       "</table>\n",
       "</div>"
      ],
      "text/plain": [
       "      Country           City   Latitude   Longitude\n",
       "1794       be       verviers  50.583333    5.866667\n",
       "22093      kh     svay rieng  11.083333  105.800000\n",
       "13790      gr        konitsa  40.048611   20.756667\n",
       "43828      us  silver spring  38.990556  -77.026389\n",
       "11144      et       butajira   8.116667   38.366667"
      ]
     },
     "execution_count": 13,
     "metadata": {},
     "output_type": "execute_result"
    }
   ],
   "source": [
    "src=pd.DataFrame(sum_ran_city)\n",
    "src.head()"
   ]
  },
  {
   "cell_type": "code",
   "execution_count": 14,
   "metadata": {},
   "outputs": [],
   "source": [
    "#Temperature (F) vs. Latitude\n",
    "#Humidity (%) vs. Latitude\n",
    "#Cloudiness (%) vs. Latitude\n",
    "#Wind Speed (mph) vs. Latitude\n",
    "lat_info=[info.get(\"coord\").get(\"lat\") for info in ran_city_weather]\n",
    "temp_info=[info.get(\"main\").get(\"temp\") for info in ran_city_weather]\n",
    "hum_info=[info.get(\"main\").get(\"humidity\") for info in ran_city_weather]\n",
    "cloud_info=[info.get(\"clouds\").get(\"all\") for info in ran_city_weather]\n",
    "wind_info=[info.get(\"wind\").get(\"speed\") for info in ran_city_weather]\n",
    "city_info=[info.get(\"name\") for info in ran_city_weather]\n",
    "country_info=[info.get(\"sys\").get(\"country\") for info in ran_city_weather]\n"
   ]
  },
  {
   "cell_type": "code",
   "execution_count": 15,
   "metadata": {},
   "outputs": [
    {
     "data": {
      "text/html": [
       "<div>\n",
       "<style>\n",
       "    .dataframe thead tr:only-child th {\n",
       "        text-align: right;\n",
       "    }\n",
       "\n",
       "    .dataframe thead th {\n",
       "        text-align: left;\n",
       "    }\n",
       "\n",
       "    .dataframe tbody tr th {\n",
       "        vertical-align: top;\n",
       "    }\n",
       "</style>\n",
       "<table border=\"1\" class=\"dataframe\">\n",
       "  <thead>\n",
       "    <tr style=\"text-align: right;\">\n",
       "      <th></th>\n",
       "      <th>Latitude</th>\n",
       "      <th>temperature (F)</th>\n",
       "    </tr>\n",
       "  </thead>\n",
       "  <tbody>\n",
       "    <tr>\n",
       "      <th>0</th>\n",
       "      <td>50.59</td>\n",
       "      <td>49.30</td>\n",
       "    </tr>\n",
       "    <tr>\n",
       "      <th>1</th>\n",
       "      <td>11.09</td>\n",
       "      <td>81.53</td>\n",
       "    </tr>\n",
       "    <tr>\n",
       "      <th>2</th>\n",
       "      <td>40.05</td>\n",
       "      <td>57.20</td>\n",
       "    </tr>\n",
       "    <tr>\n",
       "      <th>3</th>\n",
       "      <td>38.99</td>\n",
       "      <td>49.50</td>\n",
       "    </tr>\n",
       "    <tr>\n",
       "      <th>4</th>\n",
       "      <td>8.12</td>\n",
       "      <td>71.36</td>\n",
       "    </tr>\n",
       "  </tbody>\n",
       "</table>\n",
       "</div>"
      ],
      "text/plain": [
       "   Latitude  temperature (F)\n",
       "0     50.59            49.30\n",
       "1     11.09            81.53\n",
       "2     40.05            57.20\n",
       "3     38.99            49.50\n",
       "4      8.12            71.36"
      ]
     },
     "execution_count": 15,
     "metadata": {},
     "output_type": "execute_result"
    }
   ],
   "source": [
    "temp_lat={\"temperature (F)\":temp_info,\"Latitude\":lat_info}\n",
    "temp_lat=pd.DataFrame(temp_lat)\n",
    "temp_lat.head()\n"
   ]
  },
  {
   "cell_type": "code",
   "execution_count": 16,
   "metadata": {},
   "outputs": [
    {
     "data": {
      "image/png": "[encoded data removed]",
      "text/plain": [
       "<matplotlib.figure.Figure at 0x10ff5f048>"
      ]
     },
     "metadata": {},
     "output_type": "display_data"
    }
   ],
   "source": [
    "temp_lat.plot(kind=\"scatter\",x=\"Latitude\",y=\"temperature (F)\",grid=True,title=\"City Latitude vs. Temperature (F)\")\n",
    "plt.xlabel=(\"Latitude\")\n",
    "plt.ylabel=(\"City Temperature (F)\")\n",
    "plt.show()"
   ]
  },
  {
   "cell_type": "code",
   "execution_count": 17,
   "metadata": {},
   "outputs": [],
   "source": [
    "#temp_lat.dtypes"
   ]
  },
  {
   "cell_type": "code",
   "execution_count": 18,
   "metadata": {},
   "outputs": [
    {
     "data": {
      "text/html": [
       "<div>\n",
       "<style>\n",
       "    .dataframe thead tr:only-child th {\n",
       "        text-align: right;\n",
       "    }\n",
       "\n",
       "    .dataframe thead th {\n",
       "        text-align: left;\n",
       "    }\n",
       "\n",
       "    .dataframe tbody tr th {\n",
       "        vertical-align: top;\n",
       "    }\n",
       "</style>\n",
       "<table border=\"1\" class=\"dataframe\">\n",
       "  <thead>\n",
       "    <tr style=\"text-align: right;\">\n",
       "      <th></th>\n",
       "      <th>Humidity</th>\n",
       "      <th>Latitude</th>\n",
       "    </tr>\n",
       "  </thead>\n",
       "  <tbody>\n",
       "    <tr>\n",
       "      <th>0</th>\n",
       "      <td>81</td>\n",
       "      <td>50.59</td>\n",
       "    </tr>\n",
       "    <tr>\n",
       "      <th>1</th>\n",
       "      <td>79</td>\n",
       "      <td>11.09</td>\n",
       "    </tr>\n",
       "    <tr>\n",
       "      <th>2</th>\n",
       "      <td>58</td>\n",
       "      <td>40.05</td>\n",
       "    </tr>\n",
       "    <tr>\n",
       "      <th>3</th>\n",
       "      <td>100</td>\n",
       "      <td>38.99</td>\n",
       "    </tr>\n",
       "    <tr>\n",
       "      <th>4</th>\n",
       "      <td>38</td>\n",
       "      <td>8.12</td>\n",
       "    </tr>\n",
       "  </tbody>\n",
       "</table>\n",
       "</div>"
      ],
      "text/plain": [
       "   Humidity  Latitude\n",
       "0        81     50.59\n",
       "1        79     11.09\n",
       "2        58     40.05\n",
       "3       100     38.99\n",
       "4        38      8.12"
      ]
     },
     "execution_count": 18,
     "metadata": {},
     "output_type": "execute_result"
    }
   ],
   "source": [
    "hum_lat={\"Humidity\":hum_info,\"Latitude\":lat_info}\n",
    "hum_lat=pd.DataFrame(hum_lat)\n",
    "hum_lat.head()"
   ]
  },
  {
   "cell_type": "code",
   "execution_count": 19,
   "metadata": {},
   "outputs": [
    {
     "data": {
      "image/png": "[encoded data removed]",
      "text/plain": [
       "<matplotlib.figure.Figure at 0x10f47d630>"
      ]
     },
     "metadata": {},
     "output_type": "display_data"
    }
   ],
   "source": [
    "hum_lat.plot(kind=\"scatter\",x=\"Latitude\",y=\"Humidity\",grid=True,title=\"City Latitude vs. % Humidity\")\n",
    "plt.xlabel=(\"Latitude\")\n",
    "plt.ylabel=(\"Humidity %\")\n",
    "plt.show()"
   ]
  },
  {
   "cell_type": "code",
   "execution_count": 20,
   "metadata": {},
   "outputs": [
    {
     "data": {
      "text/html": [
       "<div>\n",
       "<style>\n",
       "    .dataframe thead tr:only-child th {\n",
       "        text-align: right;\n",
       "    }\n",
       "\n",
       "    .dataframe thead th {\n",
       "        text-align: left;\n",
       "    }\n",
       "\n",
       "    .dataframe tbody tr th {\n",
       "        vertical-align: top;\n",
       "    }\n",
       "</style>\n",
       "<table border=\"1\" class=\"dataframe\">\n",
       "  <thead>\n",
       "    <tr style=\"text-align: right;\">\n",
       "      <th></th>\n",
       "      <th>% Cloudiness</th>\n",
       "      <th>Latitude</th>\n",
       "    </tr>\n",
       "  </thead>\n",
       "  <tbody>\n",
       "    <tr>\n",
       "      <th>0</th>\n",
       "      <td>90</td>\n",
       "      <td>50.59</td>\n",
       "    </tr>\n",
       "    <tr>\n",
       "      <th>1</th>\n",
       "      <td>68</td>\n",
       "      <td>11.09</td>\n",
       "    </tr>\n",
       "    <tr>\n",
       "      <th>2</th>\n",
       "      <td>20</td>\n",
       "      <td>40.05</td>\n",
       "    </tr>\n",
       "    <tr>\n",
       "      <th>3</th>\n",
       "      <td>1</td>\n",
       "      <td>38.99</td>\n",
       "    </tr>\n",
       "    <tr>\n",
       "      <th>4</th>\n",
       "      <td>20</td>\n",
       "      <td>8.12</td>\n",
       "    </tr>\n",
       "  </tbody>\n",
       "</table>\n",
       "</div>"
      ],
      "text/plain": [
       "   % Cloudiness  Latitude\n",
       "0            90     50.59\n",
       "1            68     11.09\n",
       "2            20     40.05\n",
       "3             1     38.99\n",
       "4            20      8.12"
      ]
     },
     "execution_count": 20,
     "metadata": {},
     "output_type": "execute_result"
    }
   ],
   "source": [
    "cloud_lat={\"% Cloudiness\":cloud_info,\"Latitude\":lat_info}\n",
    "cloud_lat=pd.DataFrame(cloud_lat)\n",
    "cloud_lat.head()"
   ]
  },
  {
   "cell_type": "code",
   "execution_count": 21,
   "metadata": {},
   "outputs": [
    {
     "data": {
      "image/png": "[encoded data removed]",
      "text/plain": [
       "<matplotlib.figure.Figure at 0x10f49a400>"
      ]
     },
     "metadata": {},
     "output_type": "display_data"
    }
   ],
   "source": [
    "cloud_lat.plot(kind=\"scatter\",x=\"Latitude\",y=\"% Cloudiness\",grid=True,title=\"City Latitude vs. % Cloudiness\")\n",
    "plt.xlabel=(\"Latitude\")\n",
    "plt.ylabel=(\"% Cloudiness\")\n",
    "plt.show()"
   ]
  },
  {
   "cell_type": "code",
   "execution_count": 22,
   "metadata": {},
   "outputs": [
    {
     "data": {
      "text/html": [
       "<div>\n",
       "<style>\n",
       "    .dataframe thead tr:only-child th {\n",
       "        text-align: right;\n",
       "    }\n",
       "\n",
       "    .dataframe thead th {\n",
       "        text-align: left;\n",
       "    }\n",
       "\n",
       "    .dataframe tbody tr th {\n",
       "        vertical-align: top;\n",
       "    }\n",
       "</style>\n",
       "<table border=\"1\" class=\"dataframe\">\n",
       "  <thead>\n",
       "    <tr style=\"text-align: right;\">\n",
       "      <th></th>\n",
       "      <th>Latitude</th>\n",
       "      <th>Wind_Speed_(mph)</th>\n",
       "    </tr>\n",
       "  </thead>\n",
       "  <tbody>\n",
       "    <tr>\n",
       "      <th>0</th>\n",
       "      <td>50.59</td>\n",
       "      <td>17.22</td>\n",
       "    </tr>\n",
       "    <tr>\n",
       "      <th>1</th>\n",
       "      <td>11.09</td>\n",
       "      <td>6.40</td>\n",
       "    </tr>\n",
       "    <tr>\n",
       "      <th>2</th>\n",
       "      <td>40.05</td>\n",
       "      <td>3.94</td>\n",
       "    </tr>\n",
       "    <tr>\n",
       "      <th>3</th>\n",
       "      <td>38.99</td>\n",
       "      <td>7.96</td>\n",
       "    </tr>\n",
       "    <tr>\n",
       "      <th>4</th>\n",
       "      <td>8.12</td>\n",
       "      <td>9.31</td>\n",
       "    </tr>\n",
       "  </tbody>\n",
       "</table>\n",
       "</div>"
      ],
      "text/plain": [
       "   Latitude  Wind_Speed_(mph)\n",
       "0     50.59             17.22\n",
       "1     11.09              6.40\n",
       "2     40.05              3.94\n",
       "3     38.99              7.96\n",
       "4      8.12              9.31"
      ]
     },
     "execution_count": 22,
     "metadata": {},
     "output_type": "execute_result"
    }
   ],
   "source": [
    "wind_lat={\"Wind_Speed_(mph)\":wind_info,\"Latitude\":lat_info}\n",
    "wind_lat=pd.DataFrame(wind_lat)\n",
    "wind_lat.head()"
   ]
  },
  {
   "cell_type": "code",
   "execution_count": 25,
   "metadata": {},
   "outputs": [
    {
     "data": {
      "image/png": "[encoded data removed]",
      "text/plain": [
       "<matplotlib.figure.Figure at 0x10fe23a58>"
      ]
     },
     "metadata": {},
     "output_type": "display_data"
    }
   ],
   "source": [
    "wind_lat.plot(kind=\"scatter\",x=\"Latitude\",y=\"Wind_Speed_(mph)\",grid=True,title=\"City Latitude vs. Wind Speed (mph)\")\n",
    "plt.xlabel=(\"Latitude\")\n",
    "plt.ylabel=(\"Wind Speed (mph)\")\n",
    "plt.show()"
   ]
  },
  {
   "cell_type": "code",
   "execution_count": null,
   "metadata": {},
   "outputs": [],
   "source": [
    "#ran_city_weather"
   ]
  },
  {
   "cell_type": "code",
   "execution_count": null,
   "metadata": {
    "collapsed": true
   },
   "outputs": [],
   "source": []
  }
 ],
 "metadata": {
  "kernelspec": {
   "display_name": "Python [conda env:PythonData]",
   "language": "python",
   "name": "conda-env-PythonData-py"
  },
  "language_info": {
   "codemirror_mode": {
    "name": "ipython",
    "version": 3
   },
   "file_extension": ".py",
   "mimetype": "text/x-python",
   "name": "python",
   "nbconvert_exporter": "python",
   "pygments_lexer": "ipython3",
   "version": "3.6.1"
  }
 },
 "nbformat": 4,
 "nbformat_minor": 2
}
